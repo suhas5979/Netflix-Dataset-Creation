{
 "cells": [
  {
   "cell_type": "markdown",
   "id": "continuous-overall",
   "metadata": {},
   "source": [
    "# Dataset Creation\n",
    "## Netflix Original Movies \n",
    "### Imdb website"
   ]
  },
  {
   "cell_type": "code",
   "execution_count": 1,
   "id": "hidden-patient",
   "metadata": {},
   "outputs": [],
   "source": [
    "# imports \n",
    "from bs4 import BeautifulSoup as bs\n",
    "import requests as req\n",
    "import pandas as pd"
   ]
  },
  {
   "cell_type": "code",
   "execution_count": 2,
   "id": "underlying-converter",
   "metadata": {},
   "outputs": [],
   "source": [
    "base_url = \"https://www.imdb.com/list/ls043455037/?sort=list_order,asc&st_dt=&mode=detail&page={}\"\n",
    "base_url_1 = base_url.format(1)\n",
    "base_url_2 = base_url.format(2)\n",
    "base_url_3 = base_url.format(3)\n",
    "base_url_4 = base_url.format(4)"
   ]
  },
  {
   "cell_type": "code",
   "execution_count": 16,
   "id": "clear-waste",
   "metadata": {},
   "outputs": [],
   "source": [
    "web_page_content = req.get(base_url_1,headers={\"User-Agent\": \"Requests\"}).content\n",
    "# convert into beautifulsoup object\n",
    "bsoup = bs(web_page_content)\n",
    "# important content \n",
    "card_blocks = bsoup.find_all('div',{'class':'lister-item-content'})\n"
   ]
  },
  {
   "cell_type": "code",
   "execution_count": 3,
   "id": "several-match",
   "metadata": {},
   "outputs": [],
   "source": [
    "def get_movie_category(p):\n",
    "    certificate = ''\n",
    "    runtime = ''\n",
    "    genre = ''\n",
    "    if p.find('span',{'class':'certificate'}):\n",
    "        certificate = p.find('span',{'class':'certificate'}).text.strip()\n",
    "    if p.find('span',{'class':'runtime'}):\n",
    "        runtime = p.find('span',{'class':'runtime'}).text.strip()\n",
    "    if p.find('span',{'class':'genre'}):\n",
    "        genre = p.find('span',{'class':'genre'}).text.strip()\n",
    "    return (certificate,runtime,genre)"
   ]
  },
  {
   "cell_type": "code",
   "execution_count": 65,
   "id": "middle-gabriel",
   "metadata": {},
   "outputs": [],
   "source": [
    "movies = []\n",
    "for card in card_blocks:\n",
    "    movies.append(get_movie_info(card))"
   ]
  },
  {
   "cell_type": "code",
   "execution_count": 6,
   "id": "therapeutic-spring",
   "metadata": {},
   "outputs": [],
   "source": [
    "# Scrape an one movie information and put into dictionary\n",
    "def get_movie_info(card):\n",
    "    movie ={}\n",
    "    if card.find('h3'):\n",
    "        movie_name = card.h3.text.split('.')\n",
    "        movie[\"Movie Name\"] = movie_name[1]\n",
    "    if card.find('p'):\n",
    "        for i,e in enumerate(get_movie_category(card.find('p'))):\n",
    "            if i==0: movie['Certificate'] = e\n",
    "            elif i==1: movie['RunTime'] = e  \n",
    "            elif i==2: movie['Genre'] = e \n",
    "    if card.find('div',{'class':'ipl-rating-widget'}):\n",
    "        rating = card.find('div',{'class':'ipl-rating-widget'}).find('span',{'class':'ipl-rating-star__rating'}).text\n",
    "        movie['Rating'] = rating\n",
    "    if card.find('p',{'class':'text-muted text-small'}):\n",
    "        paragraphs = card.find_all('p',{'class':'text-muted text-small'})\n",
    "        for p in paragraphs:\n",
    "            if p.find('span',{'name':'nv'}):\n",
    "                votes = p.find('span',{'name':'nv'}).text\n",
    "                movie[\"Votes\"] = votes\n",
    "            elif p.find('a'):\n",
    "                anchors = p.find_all('a')\n",
    "                stars =[]\n",
    "                for i,a in enumerate(anchors):\n",
    "                    if i==0:\n",
    "                        movie[\"Director\"] = a.text\n",
    "                    else : stars.append(a.text)\n",
    "                movie[\"Stars\"] = stars\n",
    "    return movie"
   ]
  },
  {
   "cell_type": "markdown",
   "id": "collect-mount",
   "metadata": {},
   "source": [
    "## Generalized function that takes page url and return array of Netflix Movies"
   ]
  },
  {
   "cell_type": "code",
   "execution_count": 5,
   "id": "raising-sensitivity",
   "metadata": {},
   "outputs": [],
   "source": [
    "# Scrape all movies from web page by passing url to the function\n",
    "def get_all_movies_from_web_page(url,movies):\n",
    "    web_page_content = req.get(url,headers={\"User-Agent\": \"Requests\"}).content\n",
    "    # convert into beautifulsoup object\n",
    "    bsoup = bs(web_page_content)\n",
    "    # important content \n",
    "    card_blocks = bsoup.find_all('div',{'class':'lister-item-content'})\n",
    "    for card in card_blocks:\n",
    "        movies.append(get_movie_info(card))"
   ]
  },
  {
   "cell_type": "code",
   "execution_count": 7,
   "id": "catholic-advocate",
   "metadata": {},
   "outputs": [
    {
     "data": {
      "text/plain": [
       "[{'Movie Name': '\\nBeasts of No Nation\\n(2015)\\n',\n",
       "  'Certificate': '',\n",
       "  'RunTime': '137 min',\n",
       "  'Genre': 'Drama, War',\n",
       "  'Rating': '7.7',\n",
       "  'Director': 'Cary Joji Fukunaga',\n",
       "  'Stars': ['Abraham Attah',\n",
       "   'Emmanuel Affadzi',\n",
       "   'Ricky Adelayitor',\n",
       "   'Andrew Adote'],\n",
       "  'Votes': '73,983'},\n",
       " {'Movie Name': '\\nCrouching Tiger, Hidden Dragon: Sword of Destiny\\n(2016)\\n',\n",
       "  'Certificate': 'PG-13',\n",
       "  'RunTime': '96 min',\n",
       "  'Genre': 'Action, Adventure, Drama',\n",
       "  'Rating': '6.1',\n",
       "  'Director': 'Woo-Ping Yuen',\n",
       "  'Stars': ['Donnie Yen',\n",
       "   'Michelle Yeoh',\n",
       "   'Harry Shum Jr.',\n",
       "   'Natasha Liu Bordizzo'],\n",
       "  'Votes': '17,882'},\n",
       " {'Movie Name': '\\nThe Fundamentals of Caring\\n(2016)\\n',\n",
       "  'Certificate': '16',\n",
       "  'RunTime': '97 min',\n",
       "  'Genre': 'Comedy, Drama',\n",
       "  'Rating': '7.3',\n",
       "  'Director': 'Rob Burnett',\n",
       "  'Stars': ['Craig Roberts', 'Paul Rudd', 'Selena Gomez', 'Alex Huff'],\n",
       "  'Votes': '60,034'}]"
      ]
     },
     "execution_count": 7,
     "metadata": {},
     "output_type": "execute_result"
    }
   ],
   "source": [
    "movies = []\n",
    "get_all_movies_from_web_page(base_url_1,movies)\n",
    "get_all_movies_from_web_page(base_url_2,movies)\n",
    "get_all_movies_from_web_page(base_url_3,movies)\n",
    "get_all_movies_from_web_page(base_url_4,movies)\n",
    "movies[:3]"
   ]
  },
  {
   "cell_type": "code",
   "execution_count": 9,
   "id": "academic-humor",
   "metadata": {},
   "outputs": [
    {
     "data": {
      "text/plain": [
       "357"
      ]
     },
     "execution_count": 9,
     "metadata": {},
     "output_type": "execute_result"
    }
   ],
   "source": [
    "# how many movies scraped\n",
    "len(movies)"
   ]
  },
  {
   "cell_type": "code",
   "execution_count": 10,
   "id": "capital-companion",
   "metadata": {},
   "outputs": [
    {
     "data": {
      "text/plain": [
       "['Movie Name',\n",
       " 'Certificate',\n",
       " 'RunTime',\n",
       " 'Genre',\n",
       " 'Rating',\n",
       " 'Director',\n",
       " 'Stars',\n",
       " 'Votes']"
      ]
     },
     "execution_count": 10,
     "metadata": {},
     "output_type": "execute_result"
    }
   ],
   "source": [
    "# movie information labels\n",
    "object_keys = list(movies[0].keys())\n",
    "object_keys"
   ]
  },
  {
   "cell_type": "code",
   "execution_count": 12,
   "id": "danish-general",
   "metadata": {},
   "outputs": [],
   "source": [
    "# Lets format our data to objects to lists for feeding into pandas\n",
    "def format_data(movies,keys):\n",
    "    movies_name = []\n",
    "    certificates =[]\n",
    "    run_times = []\n",
    "    genres = []\n",
    "    ratings = []\n",
    "    directors = []\n",
    "    stars =[]\n",
    "    votes =[]\n",
    "    for movie in movies:\n",
    "        for key in keys:\n",
    "            if key == 'Stars' :\n",
    "                if key in movie.keys():\n",
    "                    stars_string = \"\"\n",
    "                    for star in movie[\"Stars\"]:\n",
    "                        stars_string = stars_string + star +\",\"\n",
    "                    stars.append(stars_string)\n",
    "                else : stars.append(None)\n",
    "            elif key == \"Movie Name\":\n",
    "                if key in movie.keys():\n",
    "                    name_filter = movie[key].strip()\n",
    "                    movies_name.append(name_filter.replace(\"\\n\",\" \"))\n",
    "                else : movies_name.append(None)\n",
    "            elif key == \"Certificate\":\n",
    "                if key in movie.keys():\n",
    "                    certificates.append(movie[key])\n",
    "                else : certificates.append(None)\n",
    "            elif key == \"RunTime\":\n",
    "                if key in movie.keys():\n",
    "                    run_times.append(movie[key])\n",
    "                else : run_times.append(None)\n",
    "            elif key == \"Genre\":\n",
    "                if key in movie.keys():\n",
    "                    genres.append(movie[key])\n",
    "                else : genres.append(None)\n",
    "            elif key == \"Rating\":\n",
    "                if key in movie.keys():\n",
    "                    ratings.append(movie[key])\n",
    "                else : ratings.append(None)\n",
    "            elif key == \"Director\":\n",
    "                if key in movie.keys():\n",
    "                    directors.append(movie[key])\n",
    "                else : directors.append(None)\n",
    "            elif key == \"Votes\":\n",
    "                if key in movie.keys():\n",
    "                    votes.append(movie[key])\n",
    "                else : votes.append(None)\n",
    "    return {\"Movie Name\":movies_name,\"Imdb Ratings\":ratings,\"Genre\":genres,\"Run Time\":run_times,\"Director\":directors,\"Stars\":stars,\"Votes\":votes,\"Certificate\":certificates}"
   ]
  },
  {
   "cell_type": "code",
   "execution_count": 13,
   "id": "stainless-isaac",
   "metadata": {},
   "outputs": [],
   "source": [
    "# lets convert our movies into dictionaries to lists in order to convert into pandas dataframe\n",
    "movies_dictionary = format_data(movies,object_keys)"
   ]
  },
  {
   "cell_type": "code",
   "execution_count": 14,
   "id": "random-expansion",
   "metadata": {},
   "outputs": [
    {
     "data": {
      "text/html": [
       "<div>\n",
       "<style scoped>\n",
       "    .dataframe tbody tr th:only-of-type {\n",
       "        vertical-align: middle;\n",
       "    }\n",
       "\n",
       "    .dataframe tbody tr th {\n",
       "        vertical-align: top;\n",
       "    }\n",
       "\n",
       "    .dataframe thead th {\n",
       "        text-align: right;\n",
       "    }\n",
       "</style>\n",
       "<table border=\"1\" class=\"dataframe\">\n",
       "  <thead>\n",
       "    <tr style=\"text-align: right;\">\n",
       "      <th></th>\n",
       "      <th>Movie Name</th>\n",
       "      <th>Imdb Ratings</th>\n",
       "      <th>Genre</th>\n",
       "      <th>Run Time</th>\n",
       "      <th>Director</th>\n",
       "      <th>Stars</th>\n",
       "      <th>Votes</th>\n",
       "      <th>Certificate</th>\n",
       "    </tr>\n",
       "  </thead>\n",
       "  <tbody>\n",
       "    <tr>\n",
       "      <th>0</th>\n",
       "      <td>Beasts of No Nation (2015)</td>\n",
       "      <td>7.7</td>\n",
       "      <td>Drama, War</td>\n",
       "      <td>137 min</td>\n",
       "      <td>Cary Joji Fukunaga</td>\n",
       "      <td>Abraham Attah,Emmanuel Affadzi,Ricky Adelayito...</td>\n",
       "      <td>73,983</td>\n",
       "      <td></td>\n",
       "    </tr>\n",
       "    <tr>\n",
       "      <th>1</th>\n",
       "      <td>Crouching Tiger, Hidden Dragon: Sword of Desti...</td>\n",
       "      <td>6.1</td>\n",
       "      <td>Action, Adventure, Drama</td>\n",
       "      <td>96 min</td>\n",
       "      <td>Woo-Ping Yuen</td>\n",
       "      <td>Donnie Yen,Michelle Yeoh,Harry Shum Jr.,Natash...</td>\n",
       "      <td>17,882</td>\n",
       "      <td>PG-13</td>\n",
       "    </tr>\n",
       "    <tr>\n",
       "      <th>2</th>\n",
       "      <td>The Fundamentals of Caring (2016)</td>\n",
       "      <td>7.3</td>\n",
       "      <td>Comedy, Drama</td>\n",
       "      <td>97 min</td>\n",
       "      <td>Rob Burnett</td>\n",
       "      <td>Craig Roberts,Paul Rudd,Selena Gomez,Alex Huff,</td>\n",
       "      <td>60,034</td>\n",
       "      <td>16</td>\n",
       "    </tr>\n",
       "    <tr>\n",
       "      <th>3</th>\n",
       "      <td>Rebirth (I) (2016)</td>\n",
       "      <td>5</td>\n",
       "      <td>Thriller</td>\n",
       "      <td>100 min</td>\n",
       "      <td>Karl Mueller</td>\n",
       "      <td>Fran Kranz,Adam Goldberg,Nicky Whelan,Kat Foster,</td>\n",
       "      <td>4,444</td>\n",
       "      <td></td>\n",
       "    </tr>\n",
       "    <tr>\n",
       "      <th>4</th>\n",
       "      <td>Tallulah (2016)</td>\n",
       "      <td>6.7</td>\n",
       "      <td>Comedy, Drama, Romance</td>\n",
       "      <td>111 min</td>\n",
       "      <td>Sian Heder</td>\n",
       "      <td>Elliot Page,Allison Janney,Tammy Blanchard,Eva...</td>\n",
       "      <td>18,309</td>\n",
       "      <td></td>\n",
       "    </tr>\n",
       "    <tr>\n",
       "      <th>...</th>\n",
       "      <td>...</td>\n",
       "      <td>...</td>\n",
       "      <td>...</td>\n",
       "      <td>...</td>\n",
       "      <td>...</td>\n",
       "      <td>...</td>\n",
       "      <td>...</td>\n",
       "      <td>...</td>\n",
       "    </tr>\n",
       "    <tr>\n",
       "      <th>352</th>\n",
       "      <td>Sahara (2017)</td>\n",
       "      <td>5.6</td>\n",
       "      <td>Animation, Adventure, Comedy</td>\n",
       "      <td>86 min</td>\n",
       "      <td>Pierre Coré</td>\n",
       "      <td>Omar Sy,Louane Emera,Franck Gastambide,Vincent...</td>\n",
       "      <td>2,448</td>\n",
       "      <td></td>\n",
       "    </tr>\n",
       "    <tr>\n",
       "      <th>353</th>\n",
       "      <td>Croc-Blanc (2018)</td>\n",
       "      <td>6.9</td>\n",
       "      <td>Animation, Adventure</td>\n",
       "      <td>85 min</td>\n",
       "      <td>Alexandre Espigares</td>\n",
       "      <td>Raphaël Personnaz,Virginie Efira,Dominique Pin...</td>\n",
       "      <td>3,151</td>\n",
       "      <td></td>\n",
       "    </tr>\n",
       "    <tr>\n",
       "      <th>354</th>\n",
       "      <td>An Afternoon with SCTV (TV Special)</td>\n",
       "      <td>None</td>\n",
       "      <td>Talk-Show</td>\n",
       "      <td></td>\n",
       "      <td>Martin Scorsese</td>\n",
       "      <td>Catherine O'Hara,Eugene Levy,Rick Moranis,Mart...</td>\n",
       "      <td>None</td>\n",
       "      <td></td>\n",
       "    </tr>\n",
       "    <tr>\n",
       "      <th>355</th>\n",
       "      <td>Derren Brown: Miracle (2016 TV Special)</td>\n",
       "      <td>6.6</td>\n",
       "      <td>Documentary</td>\n",
       "      <td>73 min</td>\n",
       "      <td>Julia Knowles</td>\n",
       "      <td>John L. Spencer,Derren Brown,</td>\n",
       "      <td>924</td>\n",
       "      <td></td>\n",
       "    </tr>\n",
       "    <tr>\n",
       "      <th>356</th>\n",
       "      <td>Derren Brown: Pushed to the Edge (2016 TV Spec...</td>\n",
       "      <td>7.5</td>\n",
       "      <td>Reality-TV</td>\n",
       "      <td>68 min</td>\n",
       "      <td>Jon Richards</td>\n",
       "      <td>Ben Adams,Dave Bibby,Derren Brown,Tom Carter,</td>\n",
       "      <td>3,339</td>\n",
       "      <td></td>\n",
       "    </tr>\n",
       "  </tbody>\n",
       "</table>\n",
       "<p>357 rows × 8 columns</p>\n",
       "</div>"
      ],
      "text/plain": [
       "                                            Movie Name Imdb Ratings  \\\n",
       "0                           Beasts of No Nation (2015)          7.7   \n",
       "1    Crouching Tiger, Hidden Dragon: Sword of Desti...          6.1   \n",
       "2                    The Fundamentals of Caring (2016)          7.3   \n",
       "3                                   Rebirth (I) (2016)            5   \n",
       "4                                      Tallulah (2016)          6.7   \n",
       "..                                                 ...          ...   \n",
       "352                                      Sahara (2017)          5.6   \n",
       "353                                  Croc-Blanc (2018)          6.9   \n",
       "354                An Afternoon with SCTV (TV Special)         None   \n",
       "355            Derren Brown: Miracle (2016 TV Special)          6.6   \n",
       "356  Derren Brown: Pushed to the Edge (2016 TV Spec...          7.5   \n",
       "\n",
       "                            Genre Run Time             Director  \\\n",
       "0                      Drama, War  137 min   Cary Joji Fukunaga   \n",
       "1        Action, Adventure, Drama   96 min        Woo-Ping Yuen   \n",
       "2                   Comedy, Drama   97 min          Rob Burnett   \n",
       "3                        Thriller  100 min         Karl Mueller   \n",
       "4          Comedy, Drama, Romance  111 min           Sian Heder   \n",
       "..                            ...      ...                  ...   \n",
       "352  Animation, Adventure, Comedy   86 min          Pierre Coré   \n",
       "353          Animation, Adventure   85 min  Alexandre Espigares   \n",
       "354                     Talk-Show               Martin Scorsese   \n",
       "355                   Documentary   73 min        Julia Knowles   \n",
       "356                    Reality-TV   68 min         Jon Richards   \n",
       "\n",
       "                                                 Stars   Votes Certificate  \n",
       "0    Abraham Attah,Emmanuel Affadzi,Ricky Adelayito...  73,983              \n",
       "1    Donnie Yen,Michelle Yeoh,Harry Shum Jr.,Natash...  17,882       PG-13  \n",
       "2      Craig Roberts,Paul Rudd,Selena Gomez,Alex Huff,  60,034          16  \n",
       "3    Fran Kranz,Adam Goldberg,Nicky Whelan,Kat Foster,   4,444              \n",
       "4    Elliot Page,Allison Janney,Tammy Blanchard,Eva...  18,309              \n",
       "..                                                 ...     ...         ...  \n",
       "352  Omar Sy,Louane Emera,Franck Gastambide,Vincent...   2,448              \n",
       "353  Raphaël Personnaz,Virginie Efira,Dominique Pin...   3,151              \n",
       "354  Catherine O'Hara,Eugene Levy,Rick Moranis,Mart...    None              \n",
       "355                      John L. Spencer,Derren Brown,     924              \n",
       "356      Ben Adams,Dave Bibby,Derren Brown,Tom Carter,   3,339              \n",
       "\n",
       "[357 rows x 8 columns]"
      ]
     },
     "execution_count": 14,
     "metadata": {},
     "output_type": "execute_result"
    }
   ],
   "source": [
    "# convert movies into pandas data frame\n",
    "data_frame = pd.DataFrame(movies_dictionary)\n",
    "data_frame"
   ]
  },
  {
   "cell_type": "markdown",
   "id": "environmental-python",
   "metadata": {},
   "source": [
    "### Saving Dataset into csv file"
   ]
  },
  {
   "cell_type": "code",
   "execution_count": 15,
   "id": "exclusive-breathing",
   "metadata": {},
   "outputs": [],
   "source": [
    "# convert our dataframe into csv file in order to create dataset\n",
    "data_frame.to_csv('./data/netflix-original-movies.csv')"
   ]
  },
  {
   "cell_type": "markdown",
   "id": "eight-royal",
   "metadata": {},
   "source": [
    "### Done scrape all Netflix Original movies from Imdb website"
   ]
  }
 ],
 "metadata": {
  "kernelspec": {
   "display_name": "Python 3",
   "language": "python",
   "name": "python3"
  },
  "language_info": {
   "codemirror_mode": {
    "name": "ipython",
    "version": 3
   },
   "file_extension": ".py",
   "mimetype": "text/x-python",
   "name": "python",
   "nbconvert_exporter": "python",
   "pygments_lexer": "ipython3",
   "version": "3.9.1"
  }
 },
 "nbformat": 4,
 "nbformat_minor": 5
}
