{
 "cells": [
  {
   "cell_type": "markdown",
   "id": "continuous-overall",
   "metadata": {},
   "source": [
    "# Dataset Creation\n",
    "## Netflix Original Movies \n",
    "### Imdb website"
   ]
  },
  {
   "cell_type": "code",
   "execution_count": 1,
   "id": "hidden-patient",
   "metadata": {},
   "outputs": [],
   "source": [
    "# imports \n",
    "from bs4 import BeautifulSoup as bs\n",
    "import requests as req\n",
    "import pandas as pd"
   ]
  },
  {
   "cell_type": "code",
   "execution_count": 3,
   "id": "underlying-converter",
   "metadata": {},
   "outputs": [],
   "source": [
    "base_url = \"https://www.imdb.com/list/ls043455037/?sort=list_order,asc&st_dt=&mode=detail&page={}\"\n",
    "base_url_1 = base_url.format(1)\n",
    "base_url_2 = base_url.format(2)\n",
    "base_url_3 = base_url.format(3)\n",
    "base_url_4 = base_url.format(4)"
   ]
  },
  {
   "cell_type": "code",
   "execution_count": 16,
   "id": "clear-waste",
   "metadata": {},
   "outputs": [],
   "source": [
    "web_page_content = req.get(base_url_1,headers={\"User-Agent\": \"Requests\"}).content\n",
    "# convert into beautifulsoup object\n",
    "bsoup = bs(web_page_content)\n",
    "# important content \n",
    "card_blocks = bsoup.find_all('div',{'class':'lister-item-content'})\n"
   ]
  },
  {
   "cell_type": "code",
   "execution_count": 30,
   "id": "several-match",
   "metadata": {},
   "outputs": [],
   "source": [
    "def get_movie_category(p):\n",
    "    certificate = ''\n",
    "    runtime = ''\n",
    "    genre = ''\n",
    "    if p.find('span',{'class':'certificate'}):\n",
    "        certificate = p.find('span',{'class':'certificate'}).text.strip()\n",
    "    if p.find('span',{'class':'runtime'}):\n",
    "        runtime = p.find('span',{'class':'runtime'}).text.strip()\n",
    "    if p.find('span',{'class':'genre'}):\n",
    "        genre = p.find('span',{'class':'genre'}).text.strip()\n",
    "    return (certificate,runtime,genre)"
   ]
  },
  {
   "cell_type": "code",
   "execution_count": 65,
   "id": "middle-gabriel",
   "metadata": {},
   "outputs": [],
   "source": [
    "movies = []\n",
    "for card in card_blocks:\n",
    "    movies.append(get_movie_info(card))"
   ]
  },
  {
   "cell_type": "code",
   "execution_count": 47,
   "id": "therapeutic-spring",
   "metadata": {},
   "outputs": [],
   "source": [
    "def get_movie_info(card):\n",
    "    movie ={}\n",
    "    if card.find('h3'):\n",
    "        movie_name = card.h3.text.split('.')\n",
    "        movie[\"Movie Name\"] = movie_name[1]\n",
    "    if card.find('p'):\n",
    "        for i,e in enumerate(get_movie_category(card.find('p'))):\n",
    "            if i==0: movie['Certificate'] = e\n",
    "            elif i==1: movie['RunTime'] = e  \n",
    "            elif i==2: movie['Genre'] = e \n",
    "    if card.find('div',{'class':'ipl-rating-widget'}):\n",
    "        rating = card.find('div',{'class':'ipl-rating-widget'}).find('span',{'class':'ipl-rating-star__rating'}).text\n",
    "        movie['Rating'] = rating\n",
    "    if card.find('p',{'class':'text-muted text-small'}):\n",
    "        paragraphs = card.find_all('p',{'class':'text-muted text-small'})\n",
    "        for p in paragraphs:\n",
    "            if p.find('span',{'name':'nv'}):\n",
    "                votes = p.find('span',{'name':'nv'}).text\n",
    "                movie[\"Votes\"] = votes\n",
    "            elif p.find('a'):\n",
    "                anchors = p.find_all('a')\n",
    "                stars =[]\n",
    "                for i,a in enumerate(anchors):\n",
    "                    if i==0:\n",
    "                        movie[\"Director\"] = a.text\n",
    "                    else : stars.append(a.text)\n",
    "                movie[\"Stars\"] = stars\n",
    "    return movie"
   ]
  },
  {
   "cell_type": "markdown",
   "id": "collect-mount",
   "metadata": {},
   "source": [
    "## Generalized function that takes page url and return array of Netflix Movies"
   ]
  },
  {
   "cell_type": "code",
   "execution_count": 42,
   "id": "raising-sensitivity",
   "metadata": {},
   "outputs": [],
   "source": [
    "def get_all_movies_from_web_page(url,movies):\n",
    "    web_page_content = req.get(base_url_1,headers={\"User-Agent\": \"Requests\"}).content\n",
    "    # convert into beautifulsoup object\n",
    "    bsoup = bs(web_page_content)\n",
    "    # important content \n",
    "    card_blocks = bsoup.find_all('div',{'class':'lister-item-content'})\n",
    "    for card in card_blocks:\n",
    "        movies.append(get_movie_info(card))"
   ]
  },
  {
   "cell_type": "code",
   "execution_count": 68,
   "id": "catholic-advocate",
   "metadata": {},
   "outputs": [
    {
     "data": {
      "text/plain": [
       "[{'Movie Name': '\\nBeasts of No Nation\\n(2015)\\n',\n",
       "  'Certificate': '',\n",
       "  'RunTime': '137 min',\n",
       "  'Genre': 'Drama, War',\n",
       "  'Rating': '7.7',\n",
       "  'Director': 'Cary Joji Fukunaga',\n",
       "  'Stars': ['Abraham Attah',\n",
       "   'Emmanuel Affadzi',\n",
       "   'Ricky Adelayitor',\n",
       "   'Andrew Adote'],\n",
       "  'Votes': '73,977'},\n",
       " {'Movie Name': '\\nCrouching Tiger, Hidden Dragon: Sword of Destiny\\n(2016)\\n',\n",
       "  'Certificate': 'PG-13',\n",
       "  'RunTime': '96 min',\n",
       "  'Genre': 'Action, Adventure, Drama',\n",
       "  'Rating': '6.1',\n",
       "  'Director': 'Woo-Ping Yuen',\n",
       "  'Stars': ['Donnie Yen',\n",
       "   'Michelle Yeoh',\n",
       "   'Harry Shum Jr.',\n",
       "   'Natasha Liu Bordizzo'],\n",
       "  'Votes': '17,878'},\n",
       " {'Movie Name': '\\nThe Fundamentals of Caring\\n(2016)\\n',\n",
       "  'Certificate': '16',\n",
       "  'RunTime': '97 min',\n",
       "  'Genre': 'Comedy, Drama',\n",
       "  'Rating': '7.3',\n",
       "  'Director': 'Rob Burnett',\n",
       "  'Stars': ['Craig Roberts', 'Paul Rudd', 'Selena Gomez', 'Alex Huff'],\n",
       "  'Votes': '59,989'}]"
      ]
     },
     "execution_count": 68,
     "metadata": {},
     "output_type": "execute_result"
    }
   ],
   "source": [
    "movies = []\n",
    "get_all_movies_from_web_page(base_url_1,movies)\n",
    "get_all_movies_from_web_page(base_url_2,movies)\n",
    "get_all_movies_from_web_page(base_url_3,movies)\n",
    "get_all_movies_from_web_page(base_url_4,movies)\n",
    "movies[:3]"
   ]
  },
  {
   "cell_type": "code",
   "execution_count": 49,
   "id": "academic-humor",
   "metadata": {},
   "outputs": [
    {
     "data": {
      "text/plain": [
       "400"
      ]
     },
     "execution_count": 49,
     "metadata": {},
     "output_type": "execute_result"
    }
   ],
   "source": [
    "len(movies)"
   ]
  },
  {
   "cell_type": "code",
   "execution_count": 50,
   "id": "capital-companion",
   "metadata": {},
   "outputs": [
    {
     "data": {
      "text/plain": [
       "['Movie Name',\n",
       " 'Certificate',\n",
       " 'RunTime',\n",
       " 'Genre',\n",
       " 'Rating',\n",
       " 'Director',\n",
       " 'Stars',\n",
       " 'Votes']"
      ]
     },
     "execution_count": 50,
     "metadata": {},
     "output_type": "execute_result"
    }
   ],
   "source": [
    "object_keys = list(movies[0].keys())\n",
    "object_keys"
   ]
  },
  {
   "cell_type": "code",
   "execution_count": 62,
   "id": "danish-general",
   "metadata": {},
   "outputs": [],
   "source": [
    "def format_data(movies,keys):\n",
    "    movies_name = []\n",
    "    certificates =[]\n",
    "    run_times = []\n",
    "    genres = []\n",
    "    ratings = []\n",
    "    directors = []\n",
    "    stars =[]\n",
    "    votes =[]\n",
    "    for movie in movies:\n",
    "        for key in keys:\n",
    "            if key == 'Stars' :\n",
    "                stars_string = \"\"\n",
    "                for star in movie[\"Stars\"]:\n",
    "                    stars_string = stars_string + star +\",\"\n",
    "                stars.append(stars_string)\n",
    "            elif key == \"Movie Name\":\n",
    "                name_filter = movie[key].strip()\n",
    "                movies_name.append(name_filter.replace(\"\\n\",\" \"))\n",
    "            elif key == \"Certificate\":\n",
    "                certificates.append(movie[key])\n",
    "            elif key == \"RunTime\":\n",
    "                run_times.append(movie[key])\n",
    "            elif key == \"Genre\":\n",
    "                genres.append(movie[key])\n",
    "            elif key == \"Rating\":\n",
    "                ratings.append(movie[key])\n",
    "            elif key == \"Director\":\n",
    "                directors.append(movie[key])\n",
    "            elif key == \"Votes\":\n",
    "                votes.append(movie[key])\n",
    "    return {\"Movie Name\":movies_name,\"Imdb Ratings\":ratings,\"Genre\":genres,\"Run Time\":run_times,\"Director\":directors,\"Stars\":stars,\"Votes\":votes,\"Certificate\":certificates}"
   ]
  },
  {
   "cell_type": "code",
   "execution_count": 63,
   "id": "stainless-isaac",
   "metadata": {},
   "outputs": [],
   "source": [
    "movies_dictionary = format_data(movies,object_keys)"
   ]
  },
  {
   "cell_type": "code",
   "execution_count": 70,
   "id": "random-expansion",
   "metadata": {},
   "outputs": [
    {
     "data": {
      "text/html": [
       "<div>\n",
       "<style scoped>\n",
       "    .dataframe tbody tr th:only-of-type {\n",
       "        vertical-align: middle;\n",
       "    }\n",
       "\n",
       "    .dataframe tbody tr th {\n",
       "        vertical-align: top;\n",
       "    }\n",
       "\n",
       "    .dataframe thead th {\n",
       "        text-align: right;\n",
       "    }\n",
       "</style>\n",
       "<table border=\"1\" class=\"dataframe\">\n",
       "  <thead>\n",
       "    <tr style=\"text-align: right;\">\n",
       "      <th></th>\n",
       "      <th>Movie Name</th>\n",
       "      <th>Imdb Ratings</th>\n",
       "      <th>Genre</th>\n",
       "      <th>Run Time</th>\n",
       "      <th>Director</th>\n",
       "      <th>Stars</th>\n",
       "      <th>Votes</th>\n",
       "      <th>Certificate</th>\n",
       "    </tr>\n",
       "  </thead>\n",
       "  <tbody>\n",
       "    <tr>\n",
       "      <th>0</th>\n",
       "      <td>Beasts of No Nation (2015)</td>\n",
       "      <td>7.7</td>\n",
       "      <td>Drama, War</td>\n",
       "      <td>137 min</td>\n",
       "      <td>Cary Joji Fukunaga</td>\n",
       "      <td>Abraham Attah,Emmanuel Affadzi,Ricky Adelayito...</td>\n",
       "      <td>73,977</td>\n",
       "      <td></td>\n",
       "    </tr>\n",
       "    <tr>\n",
       "      <th>1</th>\n",
       "      <td>Crouching Tiger, Hidden Dragon: Sword of Desti...</td>\n",
       "      <td>6.1</td>\n",
       "      <td>Action, Adventure, Drama</td>\n",
       "      <td>96 min</td>\n",
       "      <td>Woo-Ping Yuen</td>\n",
       "      <td>Donnie Yen,Michelle Yeoh,Harry Shum Jr.,Natash...</td>\n",
       "      <td>17,878</td>\n",
       "      <td>PG-13</td>\n",
       "    </tr>\n",
       "    <tr>\n",
       "      <th>2</th>\n",
       "      <td>The Fundamentals of Caring (2016)</td>\n",
       "      <td>7.3</td>\n",
       "      <td>Comedy, Drama</td>\n",
       "      <td>97 min</td>\n",
       "      <td>Rob Burnett</td>\n",
       "      <td>Craig Roberts,Paul Rudd,Selena Gomez,Alex Huff,</td>\n",
       "      <td>59,989</td>\n",
       "      <td>16</td>\n",
       "    </tr>\n",
       "    <tr>\n",
       "      <th>3</th>\n",
       "      <td>Rebirth (I) (2016)</td>\n",
       "      <td>5</td>\n",
       "      <td>Thriller</td>\n",
       "      <td>100 min</td>\n",
       "      <td>Karl Mueller</td>\n",
       "      <td>Fran Kranz,Adam Goldberg,Nicky Whelan,Kat Foster,</td>\n",
       "      <td>4,443</td>\n",
       "      <td></td>\n",
       "    </tr>\n",
       "    <tr>\n",
       "      <th>4</th>\n",
       "      <td>Tallulah (2016)</td>\n",
       "      <td>6.7</td>\n",
       "      <td>Comedy, Drama, Romance</td>\n",
       "      <td>111 min</td>\n",
       "      <td>Sian Heder</td>\n",
       "      <td>Elliot Page,Allison Janney,Tammy Blanchard,Eva...</td>\n",
       "      <td>18,307</td>\n",
       "      <td></td>\n",
       "    </tr>\n",
       "    <tr>\n",
       "      <th>...</th>\n",
       "      <td>...</td>\n",
       "      <td>...</td>\n",
       "      <td>...</td>\n",
       "      <td>...</td>\n",
       "      <td>...</td>\n",
       "      <td>...</td>\n",
       "      <td>...</td>\n",
       "      <td>...</td>\n",
       "    </tr>\n",
       "    <tr>\n",
       "      <th>395</th>\n",
       "      <td>Sandy Wexler (2017)</td>\n",
       "      <td>5.2</td>\n",
       "      <td>Comedy</td>\n",
       "      <td>130 min</td>\n",
       "      <td>Steven Brill</td>\n",
       "      <td>Adam Sandler,Jennifer Hudson,Kevin James,Colin...</td>\n",
       "      <td>14,854</td>\n",
       "      <td></td>\n",
       "    </tr>\n",
       "    <tr>\n",
       "      <th>396</th>\n",
       "      <td>Small Crimes (2017)</td>\n",
       "      <td>5.8</td>\n",
       "      <td>Crime, Drama, Thriller</td>\n",
       "      <td>95 min</td>\n",
       "      <td>E.L. Katz</td>\n",
       "      <td>Nikolaj Coster-Waldau,Robert Forster,Jacki Wea...</td>\n",
       "      <td>6,899</td>\n",
       "      <td></td>\n",
       "    </tr>\n",
       "    <tr>\n",
       "      <th>397</th>\n",
       "      <td>Handsome: A Netflix Mystery Movie (2017)</td>\n",
       "      <td>5.2</td>\n",
       "      <td>Comedy, Mystery</td>\n",
       "      <td>80 min</td>\n",
       "      <td>Jeff Garlin</td>\n",
       "      <td>Ava Acres,Armani GreatDane,Dino Battaglia,Bren...</td>\n",
       "      <td>4,006</td>\n",
       "      <td></td>\n",
       "    </tr>\n",
       "    <tr>\n",
       "      <th>398</th>\n",
       "      <td>War Machine (2017)</td>\n",
       "      <td>6</td>\n",
       "      <td>Comedy, Drama, War</td>\n",
       "      <td>122 min</td>\n",
       "      <td>David Michôd</td>\n",
       "      <td>Brad Pitt,Daniel Betts,John Magaro,Emory Cohen,</td>\n",
       "      <td>41,910</td>\n",
       "      <td></td>\n",
       "    </tr>\n",
       "    <tr>\n",
       "      <th>399</th>\n",
       "      <td>The Incredible Jessica James (2017)</td>\n",
       "      <td>6.5</td>\n",
       "      <td>Comedy</td>\n",
       "      <td>85 min</td>\n",
       "      <td>Jim Strouse</td>\n",
       "      <td>Jessica Williams,Chris O'Dowd,LaKeith Stanfiel...</td>\n",
       "      <td>6,403</td>\n",
       "      <td></td>\n",
       "    </tr>\n",
       "  </tbody>\n",
       "</table>\n",
       "<p>400 rows × 8 columns</p>\n",
       "</div>"
      ],
      "text/plain": [
       "                                            Movie Name Imdb Ratings  \\\n",
       "0                           Beasts of No Nation (2015)          7.7   \n",
       "1    Crouching Tiger, Hidden Dragon: Sword of Desti...          6.1   \n",
       "2                    The Fundamentals of Caring (2016)          7.3   \n",
       "3                                   Rebirth (I) (2016)            5   \n",
       "4                                      Tallulah (2016)          6.7   \n",
       "..                                                 ...          ...   \n",
       "395                                Sandy Wexler (2017)          5.2   \n",
       "396                                Small Crimes (2017)          5.8   \n",
       "397           Handsome: A Netflix Mystery Movie (2017)          5.2   \n",
       "398                                 War Machine (2017)            6   \n",
       "399                The Incredible Jessica James (2017)          6.5   \n",
       "\n",
       "                        Genre Run Time            Director  \\\n",
       "0                  Drama, War  137 min  Cary Joji Fukunaga   \n",
       "1    Action, Adventure, Drama   96 min       Woo-Ping Yuen   \n",
       "2               Comedy, Drama   97 min         Rob Burnett   \n",
       "3                    Thriller  100 min        Karl Mueller   \n",
       "4      Comedy, Drama, Romance  111 min          Sian Heder   \n",
       "..                        ...      ...                 ...   \n",
       "395                    Comedy  130 min        Steven Brill   \n",
       "396    Crime, Drama, Thriller   95 min           E.L. Katz   \n",
       "397           Comedy, Mystery   80 min         Jeff Garlin   \n",
       "398        Comedy, Drama, War  122 min        David Michôd   \n",
       "399                    Comedy   85 min         Jim Strouse   \n",
       "\n",
       "                                                 Stars   Votes Certificate  \n",
       "0    Abraham Attah,Emmanuel Affadzi,Ricky Adelayito...  73,977              \n",
       "1    Donnie Yen,Michelle Yeoh,Harry Shum Jr.,Natash...  17,878       PG-13  \n",
       "2      Craig Roberts,Paul Rudd,Selena Gomez,Alex Huff,  59,989          16  \n",
       "3    Fran Kranz,Adam Goldberg,Nicky Whelan,Kat Foster,   4,443              \n",
       "4    Elliot Page,Allison Janney,Tammy Blanchard,Eva...  18,307              \n",
       "..                                                 ...     ...         ...  \n",
       "395  Adam Sandler,Jennifer Hudson,Kevin James,Colin...  14,854              \n",
       "396  Nikolaj Coster-Waldau,Robert Forster,Jacki Wea...   6,899              \n",
       "397  Ava Acres,Armani GreatDane,Dino Battaglia,Bren...   4,006              \n",
       "398    Brad Pitt,Daniel Betts,John Magaro,Emory Cohen,  41,910              \n",
       "399  Jessica Williams,Chris O'Dowd,LaKeith Stanfiel...   6,403              \n",
       "\n",
       "[400 rows x 8 columns]"
      ]
     },
     "execution_count": 70,
     "metadata": {},
     "output_type": "execute_result"
    }
   ],
   "source": [
    "data_frame = pd.DataFrame(movies_dictionary)\n",
    "data_frame"
   ]
  },
  {
   "cell_type": "markdown",
   "id": "environmental-python",
   "metadata": {},
   "source": [
    "### Saving Dataset "
   ]
  },
  {
   "cell_type": "code",
   "execution_count": 71,
   "id": "exclusive-breathing",
   "metadata": {},
   "outputs": [],
   "source": [
    "data_frame.to_csv('./data/netflix-original-movies.csv')"
   ]
  }
 ],
 "metadata": {
  "kernelspec": {
   "display_name": "Python 3",
   "language": "python",
   "name": "python3"
  },
  "language_info": {
   "codemirror_mode": {
    "name": "ipython",
    "version": 3
   },
   "file_extension": ".py",
   "mimetype": "text/x-python",
   "name": "python",
   "nbconvert_exporter": "python",
   "pygments_lexer": "ipython3",
   "version": "3.9.1"
  }
 },
 "nbformat": 4,
 "nbformat_minor": 5
}
