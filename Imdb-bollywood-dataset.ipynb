{
 "cells": [
  {
   "cell_type": "markdown",
   "id": "reduced-woman",
   "metadata": {},
   "source": [
    "## Lets scrape Biggest collection of Movies and Create dataset of 14285 movies dataset\n",
    "### Bollywood Movies\n",
    "#### Source : Imdb Website"
   ]
  },
  {
   "cell_type": "code",
   "execution_count": 1,
   "id": "assigned-bathroom",
   "metadata": {},
   "outputs": [],
   "source": [
    "# imports \n",
    "from bs4 import BeautifulSoup as bs\n",
    "import requests as req\n",
    "import pandas as pd"
   ]
  },
  {
   "cell_type": "code",
   "execution_count": 2,
   "id": "labeled-madness",
   "metadata": {},
   "outputs": [],
   "source": [
    "base_url = 'https://www.imdb.com/search/title/?title_type=feature&primary_language=hi&sort=num_votes,desc&start={}&ref_=adv_nxt'\n",
    "# create urls for searching all pages\n",
    "urls = []\n",
    "number = 1\n",
    "while(number <14286):\n",
    "    urls.append(base_url.format(number))\n",
    "    number += 50"
   ]
  },
  {
   "cell_type": "code",
   "execution_count": 4,
   "id": "verbal-zimbabwe",
   "metadata": {},
   "outputs": [
    {
     "data": {
      "text/plain": [
       "['https://www.imdb.com/search/title/?title_type=feature&primary_language=hi&sort=num_votes,desc&start=5001&ref_=adv_nxt',\n",
       " 'https://www.imdb.com/search/title/?title_type=feature&primary_language=hi&sort=num_votes,desc&start=5051&ref_=adv_nxt',\n",
       " 'https://www.imdb.com/search/title/?title_type=feature&primary_language=hi&sort=num_votes,desc&start=5101&ref_=adv_nxt',\n",
       " 'https://www.imdb.com/search/title/?title_type=feature&primary_language=hi&sort=num_votes,desc&start=5151&ref_=adv_nxt']"
      ]
     },
     "execution_count": 4,
     "metadata": {},
     "output_type": "execute_result"
    }
   ],
   "source": [
    "urls[100:104]\n",
    "# len(urls) 286"
   ]
  },
  {
   "cell_type": "code",
   "execution_count": 5,
   "id": "exposed-paste",
   "metadata": {},
   "outputs": [],
   "source": [
    "# for certificate runtime and genre extraction\n",
    "def get_movie_category(p):\n",
    "    certificate = ''\n",
    "    runtime = ''\n",
    "    genre = ''\n",
    "    if p.find('span',{'class':'certificate'}):\n",
    "        certificate = p.find('span',{'class':'certificate'}).text.strip()\n",
    "    if p.find('span',{'class':'runtime'}):\n",
    "        runtime = p.find('span',{'class':'runtime'}).text.strip()\n",
    "    if p.find('span',{'class':'genre'}):\n",
    "        genre = p.find('span',{'class':'genre'}).text.strip()\n",
    "    return (certificate,runtime,genre)"
   ]
  },
  {
   "cell_type": "code",
   "execution_count": 6,
   "id": "basic-quarter",
   "metadata": {},
   "outputs": [],
   "source": [
    "# Scrape all movie information from given card\n",
    "def get_movie_info(card):\n",
    "    try :\n",
    "        movie ={}\n",
    "        if card.find('h3'):\n",
    "            movie_name = card.h3.text.split('.')\n",
    "            movie[\"Movie Name\"] = movie_name[1]\n",
    "        if card.find('p'):\n",
    "            for i,e in enumerate(get_movie_category(card.find('p'))):\n",
    "                if i==0: movie['Certificate'] = e\n",
    "                elif i==1: movie['RunTime'] = e  \n",
    "                elif i==2: movie['Genre'] = e \n",
    "        if card.find('div',{'class':'ratings-bar'}):\n",
    "            rating = card.find('div',{'class':'ratings-bar'}).find('div',{'class':'inline-block ratings-imdb-rating'}).strong.text\n",
    "            movie['Rating'] = rating\n",
    "        if card.find('p',{'class':'sort-num_votes-visible'}):\n",
    "            p = card.find('p',{'class':'sort-num_votes-visible'})\n",
    "\n",
    "            if p.find('span',{'name':'nv'}):\n",
    "                    votes =''\n",
    "                    votes = p.find('span',{'name':'nv'}).text\n",
    "                    movie[\"Votes\"] = votes\n",
    "        if card.find('p',{'class':''}) :\n",
    "            links = card.find('p',{'class':''}).find_all('a')\n",
    "            stars = []\n",
    "            for i,a in enumerate(links):\n",
    "                if i==0:\n",
    "                    movie['Director'] = a.text\n",
    "                else : stars.append(a.text)\n",
    "            movie[\"Stars\"] = stars\n",
    "        return movie\n",
    "    except : return None"
   ]
  },
  {
   "cell_type": "code",
   "execution_count": 8,
   "id": "associate-bishop",
   "metadata": {},
   "outputs": [],
   "source": [
    "# Scrape all movies from given page by passing page of url\n",
    "def get_all_movies_from_web_page(url,movies):\n",
    "    web_page_content = req.get(url,headers={\"User-Agent\": \"Requests\"}).content\n",
    "    # convert into beautifulsoup object\n",
    "    bsoup = bs(web_page_content)\n",
    "    # important content \n",
    "    card_blocks = bsoup.find_all('div',{'class':'lister-item-content'})\n",
    "    for card in card_blocks:\n",
    "        movie = get_movie_info(card)\n",
    "        if movie != None :\n",
    "            movies.append(get_movie_info(card))"
   ]
  },
  {
   "cell_type": "code",
   "execution_count": 52,
   "id": "authentic-music",
   "metadata": {},
   "outputs": [],
   "source": [
    "# Lets pass all the souce url collected from imdb website to the above function i.e. get_all_movies_from_web_page\n",
    "movies = []\n",
    "# this urls contains all disney movies page 1 to page 286\n",
    "for i,url in enumerate(urls):\n",
    "    get_all_movies_from_web_page(url,movies)\n"
   ]
  },
  {
   "cell_type": "code",
   "execution_count": 51,
   "id": "knowing-aviation",
   "metadata": {},
   "outputs": [],
   "source": [
    "movies = []\n",
    "# scraping all movies from pages urls\n",
    "for url in urls:\n",
    "    get_all_movies_from_web_page(url,movies)"
   ]
  },
  {
   "cell_type": "code",
   "execution_count": 58,
   "id": "empirical-august",
   "metadata": {},
   "outputs": [],
   "source": [
    "# Lets format our data to objects to lists for feeding into pandas\n",
    "def format_data(movies,keys):\n",
    "    movies_name = []\n",
    "    certificates =[]\n",
    "    run_times = []\n",
    "    genres = []\n",
    "    ratings = []\n",
    "    directors = []\n",
    "    stars =[]\n",
    "    votes =[]\n",
    "    for movie in movies:\n",
    "        for key in keys:\n",
    "            if key == 'Stars' :\n",
    "                if key in movie.keys():\n",
    "                    stars_string = \"\"\n",
    "                    for star in movie[\"Stars\"]:\n",
    "                        stars_string = stars_string + star +\",\"\n",
    "                    stars.append(stars_string)\n",
    "                else : stars.append('None')\n",
    "            elif key == \"Movie Name\":\n",
    "                if key in movie.keys():\n",
    "                    name_filter = movie[key].strip()\n",
    "                    movies_name.append(name_filter.replace(\"\\n\",\" \"))\n",
    "                else : movies_name.append('None')\n",
    "            elif key == \"Certificate\":\n",
    "                if key in movie.keys():\n",
    "                    certificates.append(movie[key])\n",
    "                else : certificates.append('None')\n",
    "            elif key == \"RunTime\":\n",
    "                if key in movie.keys():\n",
    "                    run_times.append(movie[key])\n",
    "                else : run_times.append('None')\n",
    "            elif key == \"Genre\":\n",
    "                if key in movie.keys():\n",
    "                    genres.append(movie[key])\n",
    "                else : genres.append('None')\n",
    "            elif key == \"Rating\":\n",
    "                if key in movie.keys():\n",
    "                    ratings.append(movie[key])\n",
    "                else : ratings.append('None')\n",
    "            elif key == \"Director\":\n",
    "                if key in movie.keys():\n",
    "                    directors.append(movie[key])\n",
    "                else : directors.append('None')\n",
    "            elif key == \"Votes\":\n",
    "                if key in movie.keys():\n",
    "                    votes.append(movie[key])\n",
    "                else : votes.append('None')\n",
    "    return {\"Movie Name\":movies_name,\"Imdb Ratings\":ratings,\"Genre\":genres,\"Run Time\":run_times,\"Director\":directors,\"Stars\":stars,\"Votes\":votes,\"Certificate\":certificates}"
   ]
  },
  {
   "cell_type": "code",
   "execution_count": 59,
   "id": "lesser-drain",
   "metadata": {},
   "outputs": [
    {
     "data": {
      "text/plain": [
       "['Movie Name',\n",
       " 'Certificate',\n",
       " 'RunTime',\n",
       " 'Genre',\n",
       " 'Rating',\n",
       " 'Votes',\n",
       " 'Director',\n",
       " 'Stars']"
      ]
     },
     "execution_count": 59,
     "metadata": {},
     "output_type": "execute_result"
    }
   ],
   "source": [
    "object_keys = list(res[0].keys())\n",
    "object_keys"
   ]
  },
  {
   "cell_type": "code",
   "execution_count": 64,
   "id": "lucky-reaction",
   "metadata": {},
   "outputs": [],
   "source": [
    "movies_dictionary = format_data(res,object_keys)"
   ]
  },
  {
   "cell_type": "code",
   "execution_count": 65,
   "id": "agreed-spending",
   "metadata": {},
   "outputs": [
    {
     "data": {
      "text/plain": [
       "7434"
      ]
     },
     "execution_count": 65,
     "metadata": {},
     "output_type": "execute_result"
    }
   ],
   "source": [
    "len(movies_dictionary[\"Imdb Ratings\"])"
   ]
  },
  {
   "cell_type": "code",
   "execution_count": 68,
   "id": "differential-roommate",
   "metadata": {},
   "outputs": [
    {
     "data": {
      "text/html": [
       "<div>\n",
       "<style scoped>\n",
       "    .dataframe tbody tr th:only-of-type {\n",
       "        vertical-align: middle;\n",
       "    }\n",
       "\n",
       "    .dataframe tbody tr th {\n",
       "        vertical-align: top;\n",
       "    }\n",
       "\n",
       "    .dataframe thead th {\n",
       "        text-align: right;\n",
       "    }\n",
       "</style>\n",
       "<table border=\"1\" class=\"dataframe\">\n",
       "  <thead>\n",
       "    <tr style=\"text-align: right;\">\n",
       "      <th></th>\n",
       "      <th>Movie Name</th>\n",
       "      <th>Imdb Ratings</th>\n",
       "      <th>Genre</th>\n",
       "      <th>Run Time</th>\n",
       "      <th>Director</th>\n",
       "      <th>Stars</th>\n",
       "      <th>Votes</th>\n",
       "      <th>Certificate</th>\n",
       "    </tr>\n",
       "  </thead>\n",
       "  <tbody>\n",
       "    <tr>\n",
       "      <th>7429</th>\n",
       "      <td>Sanju (2018)</td>\n",
       "      <td>7.7</td>\n",
       "      <td>Biography, Comedy, Drama</td>\n",
       "      <td>155 min</td>\n",
       "      <td>Rajkumar Hirani</td>\n",
       "      <td>Ranbir Kapoor,Paresh Rawal,Manisha Koirala,Vic...</td>\n",
       "      <td>47,535</td>\n",
       "      <td>UA</td>\n",
       "    </tr>\n",
       "    <tr>\n",
       "      <th>7430</th>\n",
       "      <td>Laxmii (2020)</td>\n",
       "      <td>2.3</td>\n",
       "      <td>Action, Comedy, Horror</td>\n",
       "      <td>141 min</td>\n",
       "      <td>Lawrence Raghavendra</td>\n",
       "      <td>Balakrishnan Thevar,Akshay Kumar,Kiara Advani,...</td>\n",
       "      <td>46,454</td>\n",
       "      <td>15+</td>\n",
       "    </tr>\n",
       "    <tr>\n",
       "      <th>7431</th>\n",
       "      <td>Kabhi Khushi Kabhie Gham</td>\n",
       "      <td>7.4</td>\n",
       "      <td>Drama, Musical, Romance</td>\n",
       "      <td>210 min</td>\n",
       "      <td>Karan Johar</td>\n",
       "      <td>Shah Rukh Khan,Kajol,Amitabh Bachchan,Hrithik ...</td>\n",
       "      <td>45,026</td>\n",
       "      <td>U</td>\n",
       "    </tr>\n",
       "    <tr>\n",
       "      <th>7432</th>\n",
       "      <td>Rab Ne Bana Di Jodi (2008)</td>\n",
       "      <td>7.2</td>\n",
       "      <td>Comedy, Drama, Music</td>\n",
       "      <td>167 min</td>\n",
       "      <td>Aditya Chopra</td>\n",
       "      <td>Shah Rukh Khan,Anushka Sharma,Vinay Pathak,M.K...</td>\n",
       "      <td>43,868</td>\n",
       "      <td>U</td>\n",
       "    </tr>\n",
       "    <tr>\n",
       "      <th>7433</th>\n",
       "      <td>Uri: The Surgical Strike (2018)</td>\n",
       "      <td>8.2</td>\n",
       "      <td>Action, Drama, War</td>\n",
       "      <td>138 min</td>\n",
       "      <td>Aditya Dhar</td>\n",
       "      <td>Vicky Kaushal,Paresh Rawal,Mohit Raina,Yami Ga...</td>\n",
       "      <td>43,475</td>\n",
       "      <td>UA</td>\n",
       "    </tr>\n",
       "  </tbody>\n",
       "</table>\n",
       "</div>"
      ],
      "text/plain": [
       "                           Movie Name Imdb Ratings                     Genre  \\\n",
       "7429                     Sanju (2018)          7.7  Biography, Comedy, Drama   \n",
       "7430                    Laxmii (2020)          2.3    Action, Comedy, Horror   \n",
       "7431         Kabhi Khushi Kabhie Gham          7.4   Drama, Musical, Romance   \n",
       "7432       Rab Ne Bana Di Jodi (2008)          7.2      Comedy, Drama, Music   \n",
       "7433  Uri: The Surgical Strike (2018)          8.2        Action, Drama, War   \n",
       "\n",
       "     Run Time              Director  \\\n",
       "7429  155 min       Rajkumar Hirani   \n",
       "7430  141 min  Lawrence Raghavendra   \n",
       "7431  210 min           Karan Johar   \n",
       "7432  167 min         Aditya Chopra   \n",
       "7433  138 min           Aditya Dhar   \n",
       "\n",
       "                                                  Stars   Votes Certificate  \n",
       "7429  Ranbir Kapoor,Paresh Rawal,Manisha Koirala,Vic...  47,535          UA  \n",
       "7430  Balakrishnan Thevar,Akshay Kumar,Kiara Advani,...  46,454         15+  \n",
       "7431  Shah Rukh Khan,Kajol,Amitabh Bachchan,Hrithik ...  45,026           U  \n",
       "7432  Shah Rukh Khan,Anushka Sharma,Vinay Pathak,M.K...  43,868           U  \n",
       "7433  Vicky Kaushal,Paresh Rawal,Mohit Raina,Yami Ga...  43,475          UA  "
      ]
     },
     "execution_count": 68,
     "metadata": {},
     "output_type": "execute_result"
    }
   ],
   "source": [
    "data_frame = pd.DataFrame(movies_dictionary)\n",
    "data_frame.tail()"
   ]
  },
  {
   "cell_type": "code",
   "execution_count": 69,
   "id": "prompt-biodiversity",
   "metadata": {},
   "outputs": [],
   "source": [
    "# save dataframe into csv file\n",
    "data_frame.to_csv('./data/bollywood-movies-dataset.csv')"
   ]
  }
 ],
 "metadata": {
  "kernelspec": {
   "display_name": "Python 3",
   "language": "python",
   "name": "python3"
  },
  "language_info": {
   "codemirror_mode": {
    "name": "ipython",
    "version": 3
   },
   "file_extension": ".py",
   "mimetype": "text/x-python",
   "name": "python",
   "nbconvert_exporter": "python",
   "pygments_lexer": "ipython3",
   "version": "3.9.1"
  }
 },
 "nbformat": 4,
 "nbformat_minor": 5
}
